{
 "cells": [
  {
   "cell_type": "code",
   "execution_count": 1,
   "id": "a5a85dc4",
   "metadata": {
    "_cell_guid": "b1076dfc-b9ad-4769-8c92-a6c4dae69d19",
    "_uuid": "8f2839f25d086af736a60e9eeb907d3b93b6e0e5",
    "execution": {
     "iopub.execute_input": "2022-12-31T21:12:26.021387Z",
     "iopub.status.busy": "2022-12-31T21:12:26.020439Z",
     "iopub.status.idle": "2022-12-31T21:12:26.034078Z",
     "shell.execute_reply": "2022-12-31T21:12:26.033206Z"
    },
    "papermill": {
     "duration": 0.03291,
     "end_time": "2022-12-31T21:12:26.036342",
     "exception": false,
     "start_time": "2022-12-31T21:12:26.003432",
     "status": "completed"
    },
    "tags": []
   },
   "outputs": [],
   "source": [
    "import numpy as np\n",
    "import pandas as pd\n",
    "from sklearn.preprocessing import OrdinalEncoder\n",
    "from sklearn.experimental import enable_iterative_imputer\n",
    "from sklearn.impute import IterativeImputer\n",
    "from sklearn.impute import SimpleImputer\n",
    "from sklearn.feature_selection import mutual_info_classif\n",
    "from sklearn.model_selection import train_test_split\n",
    "from sklearn.ensemble import RandomForestClassifier\n",
    "from sklearn.metrics import accuracy_score\n",
    "from sklearn.preprocessing import StandardScaler"
   ]
  },
  {
   "cell_type": "code",
   "execution_count": 2,
   "id": "f5e0f429",
   "metadata": {
    "execution": {
     "iopub.execute_input": "2022-12-31T21:12:26.068835Z",
     "iopub.status.busy": "2022-12-31T21:12:26.068405Z",
     "iopub.status.idle": "2022-12-31T21:12:26.133212Z",
     "shell.execute_reply": "2022-12-31T21:12:26.132152Z"
    },
    "papermill": {
     "duration": 0.084118,
     "end_time": "2022-12-31T21:12:26.135821",
     "exception": false,
     "start_time": "2022-12-31T21:12:26.051703",
     "status": "completed"
    },
    "tags": []
   },
   "outputs": [],
   "source": [
    "train_df = pd.read_csv(\"train (4).csv\")\n",
    "train_labels = train_df.pop('Transported')"
   ]
  },
  {
   "cell_type": "code",
   "execution_count": 3,
   "id": "436392a1",
   "metadata": {
    "execution": {
     "iopub.execute_input": "2022-12-31T21:12:26.296145Z",
     "iopub.status.busy": "2022-12-31T21:12:26.295730Z",
     "iopub.status.idle": "2022-12-31T21:12:26.307615Z",
     "shell.execute_reply": "2022-12-31T21:12:26.306675Z"
    },
    "papermill": {
     "duration": 0.031413,
     "end_time": "2022-12-31T21:12:26.310049",
     "exception": false,
     "start_time": "2022-12-31T21:12:26.278636",
     "status": "completed"
    },
    "tags": []
   },
   "outputs": [],
   "source": [
    "train_df.drop([\"Name\"], axis=1, inplace=True)"
   ]
  },
  {
   "cell_type": "code",
   "execution_count": 4,
   "id": "c8243d1e",
   "metadata": {},
   "outputs": [],
   "source": [
    "train_df[['deck', 'num', 'side']] = train_df['Cabin'].str.extract(r'(\\w)(\\d+)(\\w)')"
   ]
  },
  {
   "cell_type": "code",
   "execution_count": 5,
   "id": "1d067599",
   "metadata": {},
   "outputs": [],
   "source": [
    "train_df.drop([\"Cabin\"], axis=1, inplace=True)"
   ]
  },
  {
   "cell_type": "code",
   "execution_count": 6,
   "id": "05ac65a1",
   "metadata": {
    "execution": {
     "iopub.execute_input": "2022-12-31T21:12:26.404720Z",
     "iopub.status.busy": "2022-12-31T21:12:26.404330Z",
     "iopub.status.idle": "2022-12-31T21:12:26.414798Z",
     "shell.execute_reply": "2022-12-31T21:12:26.413987Z"
    },
    "papermill": {
     "duration": 0.029387,
     "end_time": "2022-12-31T21:12:26.416852",
     "exception": false,
     "start_time": "2022-12-31T21:12:26.387465",
     "status": "completed"
    },
    "tags": []
   },
   "outputs": [],
   "source": [
    "categorical_cols = train_df.select_dtypes([\"bool_\", \"object_\"]).columns\n",
    "\n",
    "numeric_cols = train_df.select_dtypes(exclude=[\"bool_\", \"object_\"]).columns"
   ]
  },
  {
   "cell_type": "code",
   "execution_count": 7,
   "id": "1c29410e",
   "metadata": {
    "execution": {
     "iopub.execute_input": "2022-12-31T21:12:26.521184Z",
     "iopub.status.busy": "2022-12-31T21:12:26.520763Z",
     "iopub.status.idle": "2022-12-31T21:12:26.525884Z",
     "shell.execute_reply": "2022-12-31T21:12:26.524889Z"
    },
    "papermill": {
     "duration": 0.024024,
     "end_time": "2022-12-31T21:12:26.528007",
     "exception": false,
     "start_time": "2022-12-31T21:12:26.503983",
     "status": "completed"
    },
    "tags": []
   },
   "outputs": [],
   "source": [
    "categorical_cols = categorical_cols.drop(\"PassengerId\")"
   ]
  },
  {
   "cell_type": "code",
   "execution_count": 8,
   "id": "d2caee7f",
   "metadata": {
    "execution": {
     "iopub.execute_input": "2022-12-31T21:12:26.788045Z",
     "iopub.status.busy": "2022-12-31T21:12:26.787635Z",
     "iopub.status.idle": "2022-12-31T21:12:27.821616Z",
     "shell.execute_reply": "2022-12-31T21:12:27.820786Z"
    },
    "papermill": {
     "duration": 1.054271,
     "end_time": "2022-12-31T21:12:27.824440",
     "exception": false,
     "start_time": "2022-12-31T21:12:26.770169",
     "status": "completed"
    },
    "tags": []
   },
   "outputs": [],
   "source": [
    "encoder = OrdinalEncoder()\n",
    "train_df[categorical_cols] = encoder.fit_transform(train_df[categorical_cols])"
   ]
  },
  {
   "cell_type": "code",
   "execution_count": 9,
   "id": "66219bfa",
   "metadata": {
    "execution": {
     "iopub.execute_input": "2022-12-31T21:12:28.015969Z",
     "iopub.status.busy": "2022-12-31T21:12:28.015175Z",
     "iopub.status.idle": "2022-12-31T21:12:28.025185Z",
     "shell.execute_reply": "2022-12-31T21:12:28.024077Z"
    },
    "papermill": {
     "duration": 0.030082,
     "end_time": "2022-12-31T21:12:28.027318",
     "exception": false,
     "start_time": "2022-12-31T21:12:27.997236",
     "status": "completed"
    },
    "tags": []
   },
   "outputs": [
    {
     "data": {
      "text/plain": [
       "6515"
      ]
     },
     "execution_count": 9,
     "metadata": {},
     "output_type": "execute_result"
    }
   ],
   "source": [
    "train_df.isna().sum().sum()"
   ]
  },
  {
   "cell_type": "code",
   "execution_count": 10,
   "id": "542131b0",
   "metadata": {
    "execution": {
     "iopub.execute_input": "2022-12-31T21:12:28.359991Z",
     "iopub.status.busy": "2022-12-31T21:12:28.359531Z",
     "iopub.status.idle": "2022-12-31T21:12:28.533857Z",
     "shell.execute_reply": "2022-12-31T21:12:28.532257Z"
    },
    "papermill": {
     "duration": 0.196373,
     "end_time": "2022-12-31T21:12:28.538029",
     "exception": false,
     "start_time": "2022-12-31T21:12:28.341656",
     "status": "completed"
    },
    "tags": []
   },
   "outputs": [],
   "source": [
    "iterative_imputer = IterativeImputer()\n",
    "train_df[numeric_cols] = pd.DataFrame(iterative_imputer.fit_transform(train_df[numeric_cols]), columns= numeric_cols)"
   ]
  },
  {
   "cell_type": "code",
   "execution_count": 11,
   "id": "4e63bf23",
   "metadata": {
    "execution": {
     "iopub.execute_input": "2022-12-31T21:12:28.672853Z",
     "iopub.status.busy": "2022-12-31T21:12:28.672429Z",
     "iopub.status.idle": "2022-12-31T21:12:28.685256Z",
     "shell.execute_reply": "2022-12-31T21:12:28.684412Z"
    },
    "papermill": {
     "duration": 0.032939,
     "end_time": "2022-12-31T21:12:28.687483",
     "exception": false,
     "start_time": "2022-12-31T21:12:28.654544",
     "status": "completed"
    },
    "tags": []
   },
   "outputs": [],
   "source": [
    "categorical_imputer = SimpleImputer(strategy= \"most_frequent\")\n",
    "train_df[categorical_cols] = pd.DataFrame(categorical_imputer.fit_transform(train_df[categorical_cols]), columns= categorical_cols)"
   ]
  },
  {
   "cell_type": "code",
   "execution_count": 12,
   "id": "47e2b7eb",
   "metadata": {
    "execution": {
     "iopub.execute_input": "2022-12-31T21:12:28.755533Z",
     "iopub.status.busy": "2022-12-31T21:12:28.755110Z",
     "iopub.status.idle": "2022-12-31T21:12:28.764119Z",
     "shell.execute_reply": "2022-12-31T21:12:28.763362Z"
    },
    "papermill": {
     "duration": 0.029021,
     "end_time": "2022-12-31T21:12:28.766195",
     "exception": false,
     "start_time": "2022-12-31T21:12:28.737174",
     "status": "completed"
    },
    "tags": []
   },
   "outputs": [
    {
     "data": {
      "text/plain": [
       "0"
      ]
     },
     "execution_count": 12,
     "metadata": {},
     "output_type": "execute_result"
    }
   ],
   "source": [
    "train_df.isna().sum().sum()"
   ]
  },
  {
   "cell_type": "code",
   "execution_count": 13,
   "id": "e2c18b04",
   "metadata": {
    "execution": {
     "iopub.execute_input": "2022-12-31T21:12:28.901220Z",
     "iopub.status.busy": "2022-12-31T21:12:28.900207Z",
     "iopub.status.idle": "2022-12-31T21:12:28.926364Z",
     "shell.execute_reply": "2022-12-31T21:12:28.925500Z"
    },
    "papermill": {
     "duration": 0.046946,
     "end_time": "2022-12-31T21:12:28.929194",
     "exception": false,
     "start_time": "2022-12-31T21:12:28.882248",
     "status": "completed"
    },
    "tags": []
   },
   "outputs": [],
   "source": [
    "train_df[\"group\"] = train_df[\"PassengerId\"].str.split(\"_\").str[0] \n",
    "train_df[\"group\"] = pd.to_numeric(train_df[\"group\"]) "
   ]
  },
  {
   "cell_type": "code",
   "execution_count": 14,
   "id": "fbe31631",
   "metadata": {
    "execution": {
     "iopub.execute_input": "2022-12-31T21:12:29.015210Z",
     "iopub.status.busy": "2022-12-31T21:12:29.014515Z",
     "iopub.status.idle": "2022-12-31T21:12:29.019964Z",
     "shell.execute_reply": "2022-12-31T21:12:29.019123Z"
    },
    "papermill": {
     "duration": 0.026307,
     "end_time": "2022-12-31T21:12:29.022222",
     "exception": false,
     "start_time": "2022-12-31T21:12:28.995915",
     "status": "completed"
    },
    "tags": []
   },
   "outputs": [],
   "source": [
    "train_df.drop(\"PassengerId\", axis= 1, inplace= True)"
   ]
  },
  {
   "cell_type": "code",
   "execution_count": 15,
   "id": "f42c65d2",
   "metadata": {
    "execution": {
     "iopub.execute_input": "2022-12-31T21:12:29.092678Z",
     "iopub.status.busy": "2022-12-31T21:12:29.091547Z",
     "iopub.status.idle": "2022-12-31T21:12:29.103376Z",
     "shell.execute_reply": "2022-12-31T21:12:29.102561Z"
    },
    "papermill": {
     "duration": 0.031779,
     "end_time": "2022-12-31T21:12:29.105574",
     "exception": false,
     "start_time": "2022-12-31T21:12:29.073795",
     "status": "completed"
    },
    "tags": []
   },
   "outputs": [],
   "source": [
    "scaler = StandardScaler()\n",
    "new_col_names = [col + \"_scaled\" for col in numeric_cols]\n",
    "\n",
    "train_df[new_col_names] = scaler.fit_transform(train_df[numeric_cols]) "
   ]
  },
  {
   "cell_type": "markdown",
   "id": "c13b74b7",
   "metadata": {
    "papermill": {
     "duration": 0.016434,
     "end_time": "2022-12-31T21:12:29.138986",
     "exception": false,
     "start_time": "2022-12-31T21:12:29.122552",
     "status": "completed"
    },
    "tags": []
   },
   "source": [
    "View the scaled columns"
   ]
  },
  {
   "cell_type": "code",
   "execution_count": 16,
   "id": "6b7087b3",
   "metadata": {
    "execution": {
     "iopub.execute_input": "2022-12-31T21:12:29.332536Z",
     "iopub.status.busy": "2022-12-31T21:12:29.332122Z",
     "iopub.status.idle": "2022-12-31T21:12:29.969876Z",
     "shell.execute_reply": "2022-12-31T21:12:29.968562Z"
    },
    "papermill": {
     "duration": 0.658647,
     "end_time": "2022-12-31T21:12:29.972224",
     "exception": false,
     "start_time": "2022-12-31T21:12:29.313577",
     "status": "completed"
    },
    "tags": []
   },
   "outputs": [
    {
     "data": {
      "text/plain": [
       "CryoSleep              0.118112\n",
       "Spa                    0.079575\n",
       "RoomService            0.075638\n",
       "Spa_scaled             0.074728\n",
       "RoomService_scaled     0.072656\n",
       "VRDeck                 0.068725\n",
       "ShoppingMall_scaled    0.056922\n",
       "VRDeck_scaled          0.056830\n",
       "ShoppingMall           0.054691\n",
       "FoodCourt              0.046991\n",
       "FoodCourt_scaled       0.046441\n",
       "HomePlanet             0.031857\n",
       "group                  0.022129\n",
       "Age_scaled             0.016785\n",
       "Destination            0.014282\n",
       "Age                    0.011469\n",
       "deck                   0.006273\n",
       "num                    0.004650\n",
       "VIP                    0.001721\n",
       "side                   0.000000\n",
       "Name: MI Scores, dtype: float64"
      ]
     },
     "execution_count": 16,
     "metadata": {},
     "output_type": "execute_result"
    }
   ],
   "source": [
    "mi_scores = mutual_info_classif(train_df, train_labels)\n",
    "mi_scores = pd.Series(mi_scores, name=\"MI Scores\", index=train_df.columns)\n",
    "mi_scores = mi_scores.sort_values(ascending=False)\n",
    "mi_scores"
   ]
  },
  {
   "cell_type": "code",
   "execution_count": 17,
   "id": "dd8bb128",
   "metadata": {
    "execution": {
     "iopub.execute_input": "2022-12-31T21:12:30.043246Z",
     "iopub.status.busy": "2022-12-31T21:12:30.042342Z",
     "iopub.status.idle": "2022-12-31T21:12:30.048829Z",
     "shell.execute_reply": "2022-12-31T21:12:30.047702Z"
    },
    "papermill": {
     "duration": 0.027034,
     "end_time": "2022-12-31T21:12:30.050916",
     "exception": false,
     "start_time": "2022-12-31T21:12:30.023882",
     "status": "completed"
    },
    "tags": []
   },
   "outputs": [],
   "source": [
    "train_df.drop([\"Destination\", \"VIP\"], axis= 1, inplace= True)"
   ]
  },
  {
   "cell_type": "code",
   "execution_count": 18,
   "id": "04f2016f",
   "metadata": {
    "execution": {
     "iopub.execute_input": "2022-12-31T21:12:30.173265Z",
     "iopub.status.busy": "2022-12-31T21:12:30.172513Z",
     "iopub.status.idle": "2022-12-31T21:12:30.180055Z",
     "shell.execute_reply": "2022-12-31T21:12:30.179264Z"
    },
    "papermill": {
     "duration": 0.038552,
     "end_time": "2022-12-31T21:12:30.183024",
     "exception": false,
     "start_time": "2022-12-31T21:12:30.144472",
     "status": "completed"
    },
    "tags": []
   },
   "outputs": [],
   "source": [
    "X_train, X_valid, y_train, y_valid = train_test_split(train_df, train_labels, train_size = 0.8)"
   ]
  },
  {
   "cell_type": "code",
   "execution_count": 19,
   "id": "792ceb13",
   "metadata": {
    "execution": {
     "iopub.execute_input": "2022-12-31T21:12:30.357370Z",
     "iopub.status.busy": "2022-12-31T21:12:30.356650Z",
     "iopub.status.idle": "2022-12-31T21:12:42.821737Z",
     "shell.execute_reply": "2022-12-31T21:12:42.820394Z"
    },
    "papermill": {
     "duration": 12.490535,
     "end_time": "2022-12-31T21:12:42.824633",
     "exception": false,
     "start_time": "2022-12-31T21:12:30.334098",
     "status": "completed"
    },
    "tags": []
   },
   "outputs": [
    {
     "name": "stdout",
     "output_type": "stream",
     "text": [
      "0.7947096032202415\n"
     ]
    }
   ],
   "source": [
    "rf = RandomForestClassifier(n_estimators = 1000)\n",
    "rf.fit(X_train, y_train)\n",
    "\n",
    "print(accuracy_score(y_valid, rf.predict(X_valid)))"
   ]
  },
  {
   "cell_type": "code",
   "execution_count": 20,
   "id": "cdd86e91",
   "metadata": {
    "execution": {
     "iopub.execute_input": "2022-12-31T21:12:42.863640Z",
     "iopub.status.busy": "2022-12-31T21:12:42.863246Z",
     "iopub.status.idle": "2022-12-31T21:12:43.543685Z",
     "shell.execute_reply": "2022-12-31T21:12:43.542069Z"
    },
    "papermill": {
     "duration": 0.70857,
     "end_time": "2022-12-31T21:12:43.552861",
     "exception": false,
     "start_time": "2022-12-31T21:12:42.844291",
     "status": "completed"
    },
    "tags": []
   },
   "outputs": [
    {
     "name": "stdout",
     "output_type": "stream",
     "text": [
      "0.7929844738355377\n"
     ]
    }
   ],
   "source": [
    "from sklearn.linear_model import LogisticRegression\n",
    "lr = LogisticRegression(max_iter=3000, random_state=42)\n",
    "lr.fit(X_train, y_train)\n",
    "\n",
    "print(accuracy_score(y_valid, lr.predict(X_valid)))"
   ]
  },
  {
   "cell_type": "code",
   "execution_count": 21,
   "id": "2ec69126",
   "metadata": {
    "execution": {
     "iopub.execute_input": "2022-12-31T21:12:43.645479Z",
     "iopub.status.busy": "2022-12-31T21:12:43.644724Z",
     "iopub.status.idle": "2022-12-31T21:12:46.616067Z",
     "shell.execute_reply": "2022-12-31T21:12:46.614564Z"
    },
    "papermill": {
     "duration": 3.020753,
     "end_time": "2022-12-31T21:12:46.618584",
     "exception": false,
     "start_time": "2022-12-31T21:12:43.597831",
     "status": "completed"
    },
    "tags": []
   },
   "outputs": [
    {
     "name": "stdout",
     "output_type": "stream",
     "text": [
      "0.8148361127084531\n"
     ]
    }
   ],
   "source": [
    "from sklearn.ensemble import GradientBoostingClassifier\n",
    "\n",
    "gbc = GradientBoostingClassifier(n_estimators=200)\n",
    "gbc.fit(X_train, y_train)\n",
    "\n",
    "print(accuracy_score(y_valid, gbc.predict(X_valid)))"
   ]
  },
  {
   "cell_type": "code",
   "execution_count": 22,
   "id": "91fde93f",
   "metadata": {
    "execution": {
     "iopub.execute_input": "2022-12-31T21:12:46.690476Z",
     "iopub.status.busy": "2022-12-31T21:12:46.689552Z",
     "iopub.status.idle": "2022-12-31T21:12:46.810583Z",
     "shell.execute_reply": "2022-12-31T21:12:46.809618Z"
    },
    "papermill": {
     "duration": 0.142456,
     "end_time": "2022-12-31T21:12:46.813254",
     "exception": false,
     "start_time": "2022-12-31T21:12:46.670798",
     "status": "completed"
    },
    "tags": []
   },
   "outputs": [],
   "source": [
    "from xgboost import XGBClassifier\n",
    "\n",
    "class CustomXGBClassifier(XGBClassifier):\n",
    "    \n",
    "    def __init__(self, **params):\n",
    "        \n",
    "        super().__init__(**params)\n",
    "        self.eval_set = params['eval_set']\n",
    "    \n",
    "    def fit(self, X, y):\n",
    "        super().fit(X, y, eval_set=self.eval_set, verbose=100) "
   ]
  },
  {
   "cell_type": "code",
   "execution_count": 23,
   "id": "cd8c02f4",
   "metadata": {
    "execution": {
     "iopub.execute_input": "2022-12-31T21:12:46.849946Z",
     "iopub.status.busy": "2022-12-31T21:12:46.849486Z",
     "iopub.status.idle": "2022-12-31T21:12:54.649912Z",
     "shell.execute_reply": "2022-12-31T21:12:54.648100Z"
    },
    "papermill": {
     "duration": 7.821925,
     "end_time": "2022-12-31T21:12:54.652685",
     "exception": false,
     "start_time": "2022-12-31T21:12:46.830760",
     "status": "completed"
    },
    "tags": []
   },
   "outputs": [
    {
     "name": "stdout",
     "output_type": "stream",
     "text": [
      "[21:09:09] WARNING: C:/buildkite-agent/builds/buildkite-windows-cpu-autoscaling-group-i-0fc7796c793e6356f-1/xgboost/xgboost-ci-windows/src/learner.cc:767: \n",
      "Parameters: { \"eval_set\" } are not used.\n",
      "\n",
      "[0]\tvalidation_0-logloss:0.68904\n"
     ]
    },
    {
     "name": "stdout",
     "output_type": "stream",
     "text": [
      "[100]\tvalidation_0-logloss:0.49035\n",
      "[200]\tvalidation_0-logloss:0.43830\n",
      "[300]\tvalidation_0-logloss:0.41916\n",
      "[400]\tvalidation_0-logloss:0.41343\n",
      "[500]\tvalidation_0-logloss:0.41094\n",
      "[600]\tvalidation_0-logloss:0.40940\n",
      "[700]\tvalidation_0-logloss:0.40851\n",
      "[800]\tvalidation_0-logloss:0.40756\n",
      "[900]\tvalidation_0-logloss:0.40725\n",
      "[999]\tvalidation_0-logloss:0.40702\n",
      "0.8085106382978723\n"
     ]
    }
   ],
   "source": [
    "xgb = CustomXGBClassifier(n_estimators=1000, learning_rate=0.01, eval_set=[(X_valid, y_valid)], early_stopping_rounds=40, objective='binary:logistic')\n",
    "xgb.fit(X_train, y_train)\n",
    "\n",
    "print(accuracy_score(y_valid, xgb.predict(X_valid)))"
   ]
  },
  {
   "cell_type": "code",
   "execution_count": 24,
   "id": "289b2b13",
   "metadata": {
    "execution": {
     "iopub.execute_input": "2022-12-31T21:12:54.729961Z",
     "iopub.status.busy": "2022-12-31T21:12:54.729557Z",
     "iopub.status.idle": "2022-12-31T21:13:19.625580Z",
     "shell.execute_reply": "2022-12-31T21:13:19.624003Z"
    },
    "papermill": {
     "duration": 24.920156,
     "end_time": "2022-12-31T21:13:19.629981",
     "exception": false,
     "start_time": "2022-12-31T21:12:54.709825",
     "status": "completed"
    },
    "tags": []
   },
   "outputs": [
    {
     "name": "stdout",
     "output_type": "stream",
     "text": [
      "[21:09:19] WARNING: C:/buildkite-agent/builds/buildkite-windows-cpu-autoscaling-group-i-0fc7796c793e6356f-1/xgboost/xgboost-ci-windows/src/learner.cc:767: \n",
      "Parameters: { \"eval_set\" } are not used.\n",
      "\n",
      "[0]\tvalidation_0-logloss:0.68904\n"
     ]
    },
    {
     "name": "stdout",
     "output_type": "stream",
     "text": [
      "[100]\tvalidation_0-logloss:0.49035\n",
      "[200]\tvalidation_0-logloss:0.43830\n",
      "[300]\tvalidation_0-logloss:0.41916\n",
      "[400]\tvalidation_0-logloss:0.41343\n",
      "[500]\tvalidation_0-logloss:0.41094\n",
      "[600]\tvalidation_0-logloss:0.40940\n",
      "[700]\tvalidation_0-logloss:0.40851\n",
      "[800]\tvalidation_0-logloss:0.40756\n",
      "[900]\tvalidation_0-logloss:0.40725\n",
      "[999]\tvalidation_0-logloss:0.40702\n",
      "0.8108108108108109\n"
     ]
    }
   ],
   "source": [
    "from sklearn.ensemble import VotingClassifier\n",
    "\n",
    "model = VotingClassifier(\n",
    "    estimators = [\n",
    "        ('xgb', xgb),\n",
    "        ('rf', rf),\n",
    "        ('lr', lr),\n",
    "        ('gbc', gbc)\n",
    "    ],\n",
    "    voting = 'soft'\n",
    ")\n",
    "\n",
    "model.fit(X_train, y_train)\n",
    "\n",
    "print(accuracy_score(y_valid, model.predict(X_valid)))"
   ]
  },
  {
   "cell_type": "markdown",
   "id": "c36cdcde",
   "metadata": {
    "papermill": {
     "duration": 0.018876,
     "end_time": "2022-12-31T21:13:19.801379",
     "exception": false,
     "start_time": "2022-12-31T21:13:19.782503",
     "status": "completed"
    },
    "tags": []
   },
   "source": [
    "**Submit**"
   ]
  },
  {
   "cell_type": "code",
   "execution_count": 25,
   "id": "7e3cc077",
   "metadata": {
    "execution": {
     "iopub.execute_input": "2022-12-31T21:13:19.840383Z",
     "iopub.status.busy": "2022-12-31T21:13:19.839990Z",
     "iopub.status.idle": "2022-12-31T21:13:19.866461Z",
     "shell.execute_reply": "2022-12-31T21:13:19.865553Z"
    },
    "papermill": {
     "duration": 0.048854,
     "end_time": "2022-12-31T21:13:19.868906",
     "exception": false,
     "start_time": "2022-12-31T21:13:19.820052",
     "status": "completed"
    },
    "tags": []
   },
   "outputs": [],
   "source": [
    "test_df = pd.read_csv(\"test (2).csv\")"
   ]
  },
  {
   "cell_type": "code",
   "execution_count": 26,
   "id": "86ad918b",
   "metadata": {},
   "outputs": [],
   "source": [
    "test_df[['deck', 'num', 'side']] = test_df['Cabin'].str.extract(r'(\\w)(\\d+)(\\w)')"
   ]
  },
  {
   "cell_type": "code",
   "execution_count": 27,
   "id": "392dcb89",
   "metadata": {},
   "outputs": [],
   "source": [
    "test_df.drop([\"Cabin\"], axis=1, inplace=True)"
   ]
  },
  {
   "cell_type": "code",
   "execution_count": 28,
   "id": "1194c675",
   "metadata": {
    "execution": {
     "iopub.execute_input": "2022-12-31T21:13:19.945630Z",
     "iopub.status.busy": "2022-12-31T21:13:19.945045Z",
     "iopub.status.idle": "2022-12-31T21:13:19.958286Z",
     "shell.execute_reply": "2022-12-31T21:13:19.957352Z"
    },
    "papermill": {
     "duration": 0.03581,
     "end_time": "2022-12-31T21:13:19.960789",
     "exception": false,
     "start_time": "2022-12-31T21:13:19.924979",
     "status": "completed"
    },
    "tags": []
   },
   "outputs": [],
   "source": [
    "test_df[categorical_cols] = encoder.transform(test_df[categorical_cols])"
   ]
  },
  {
   "cell_type": "code",
   "execution_count": 29,
   "id": "b855e343",
   "metadata": {
    "execution": {
     "iopub.execute_input": "2022-12-31T21:13:20.037603Z",
     "iopub.status.busy": "2022-12-31T21:13:20.037001Z",
     "iopub.status.idle": "2022-12-31T21:13:20.053445Z",
     "shell.execute_reply": "2022-12-31T21:13:20.052595Z"
    },
    "papermill": {
     "duration": 0.038912,
     "end_time": "2022-12-31T21:13:20.055918",
     "exception": false,
     "start_time": "2022-12-31T21:13:20.017006",
     "status": "completed"
    },
    "tags": []
   },
   "outputs": [],
   "source": [
    "test_df[numeric_cols] = pd.DataFrame(iterative_imputer.transform(test_df[numeric_cols]), columns= numeric_cols)\n",
    "test_df[categorical_cols] = pd.DataFrame(categorical_imputer.transform(test_df[categorical_cols]), columns= categorical_cols)"
   ]
  },
  {
   "cell_type": "code",
   "execution_count": 30,
   "id": "626dc3c0",
   "metadata": {
    "execution": {
     "iopub.execute_input": "2022-12-31T21:13:20.132710Z",
     "iopub.status.busy": "2022-12-31T21:13:20.132088Z",
     "iopub.status.idle": "2022-12-31T21:13:20.148021Z",
     "shell.execute_reply": "2022-12-31T21:13:20.146833Z"
    },
    "papermill": {
     "duration": 0.03889,
     "end_time": "2022-12-31T21:13:20.150698",
     "exception": false,
     "start_time": "2022-12-31T21:13:20.111808",
     "status": "completed"
    },
    "tags": []
   },
   "outputs": [],
   "source": [
    "test_df[\"group\"] = test_df[\"PassengerId\"].str.split(\"_\").str[0]\n",
    "test_df[\"group\"] = pd.to_numeric(test_df[\"group\"])"
   ]
  },
  {
   "cell_type": "code",
   "execution_count": 31,
   "id": "19b24ca0",
   "metadata": {
    "execution": {
     "iopub.execute_input": "2022-12-31T21:13:20.227099Z",
     "iopub.status.busy": "2022-12-31T21:13:20.226397Z",
     "iopub.status.idle": "2022-12-31T21:13:20.237536Z",
     "shell.execute_reply": "2022-12-31T21:13:20.236372Z"
    },
    "papermill": {
     "duration": 0.03376,
     "end_time": "2022-12-31T21:13:20.239982",
     "exception": false,
     "start_time": "2022-12-31T21:13:20.206222",
     "status": "completed"
    },
    "tags": []
   },
   "outputs": [],
   "source": [
    "test_df[new_col_names] = scaler.transform(test_df[numeric_cols]) "
   ]
  },
  {
   "cell_type": "code",
   "execution_count": 32,
   "id": "65db4789",
   "metadata": {
    "execution": {
     "iopub.execute_input": "2022-12-31T21:13:20.315728Z",
     "iopub.status.busy": "2022-12-31T21:13:20.314949Z",
     "iopub.status.idle": "2022-12-31T21:13:21.414879Z",
     "shell.execute_reply": "2022-12-31T21:13:21.413185Z"
    },
    "papermill": {
     "duration": 1.12409,
     "end_time": "2022-12-31T21:13:21.419232",
     "exception": false,
     "start_time": "2022-12-31T21:13:20.295142",
     "status": "completed"
    },
    "tags": []
   },
   "outputs": [],
   "source": [
    "preds = [x == 1 for x in model.predict(test_df[train_df.columns])]"
   ]
  },
  {
   "cell_type": "code",
   "execution_count": 33,
   "id": "e1a3aab1",
   "metadata": {
    "execution": {
     "iopub.execute_input": "2022-12-31T21:13:21.501638Z",
     "iopub.status.busy": "2022-12-31T21:13:21.501229Z",
     "iopub.status.idle": "2022-12-31T21:13:21.508512Z",
     "shell.execute_reply": "2022-12-31T21:13:21.507327Z"
    },
    "papermill": {
     "duration": 0.042981,
     "end_time": "2022-12-31T21:13:21.510676",
     "exception": false,
     "start_time": "2022-12-31T21:13:21.467695",
     "status": "completed"
    },
    "tags": []
   },
   "outputs": [],
   "source": [
    "submission_df = pd.DataFrame({\n",
    "    \"PassengerId\" : test_df[\"PassengerId\"],\n",
    "    \"Transported\" : preds\n",
    "})"
   ]
  },
  {
   "cell_type": "code",
   "execution_count": 34,
   "id": "56a1b840",
   "metadata": {
    "execution": {
     "iopub.execute_input": "2022-12-31T21:13:21.600743Z",
     "iopub.status.busy": "2022-12-31T21:13:21.600334Z",
     "iopub.status.idle": "2022-12-31T21:13:21.612606Z",
     "shell.execute_reply": "2022-12-31T21:13:21.611683Z"
    },
    "papermill": {
     "duration": 0.034928,
     "end_time": "2022-12-31T21:13:21.615096",
     "exception": false,
     "start_time": "2022-12-31T21:13:21.580168",
     "status": "completed"
    },
    "tags": []
   },
   "outputs": [],
   "source": [
    "submission_df.to_csv(\"submission_v2.csv\", index=False)"
   ]
  }
 ],
 "metadata": {
  "kernelspec": {
   "display_name": "Python 3",
   "language": "python",
   "name": "python3"
  },
  "language_info": {
   "codemirror_mode": {
    "name": "ipython",
    "version": 3
   },
   "file_extension": ".py",
   "mimetype": "text/x-python",
   "name": "python",
   "nbconvert_exporter": "python",
   "pygments_lexer": "ipython3",
   "version": "3.10.10"
  },
  "papermill": {
   "default_parameters": {},
   "duration": 65.933819,
   "end_time": "2022-12-31T21:13:22.456331",
   "environment_variables": {},
   "exception": null,
   "input_path": "__notebook__.ipynb",
   "output_path": "__notebook__.ipynb",
   "parameters": {},
   "start_time": "2022-12-31T21:12:16.522512",
   "version": "2.3.4"
  }
 },
 "nbformat": 4,
 "nbformat_minor": 5
}
